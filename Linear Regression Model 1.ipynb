{
 "cells": [
  {
   "cell_type": "code",
   "execution_count": 1,
   "metadata": {},
   "outputs": [],
   "source": [
    "import pandas as pd\n",
    "import numpy as np\n",
    "import matplotlib.pyplot as plt \n",
    "import seaborn as sns\n",
    "import sklearn as sk \n",
    "import statsmodels as stats"
   ]
  },
  {
   "cell_type": "code",
   "execution_count": 10,
   "metadata": {},
   "outputs": [],
   "source": [
    "df = pd.read_csv('clean_movie_data.csv')"
   ]
  },
  {
   "cell_type": "code",
   "execution_count": 11,
   "metadata": {},
   "outputs": [
    {
     "data": {
      "text/html": [
       "<div>\n",
       "<style scoped>\n",
       "    .dataframe tbody tr th:only-of-type {\n",
       "        vertical-align: middle;\n",
       "    }\n",
       "\n",
       "    .dataframe tbody tr th {\n",
       "        vertical-align: top;\n",
       "    }\n",
       "\n",
       "    .dataframe thead th {\n",
       "        text-align: right;\n",
       "    }\n",
       "</style>\n",
       "<table border=\"1\" class=\"dataframe\">\n",
       "  <thead>\n",
       "    <tr style=\"text-align: right;\">\n",
       "      <th></th>\n",
       "      <th>budget</th>\n",
       "      <th>imdb_id</th>\n",
       "      <th>release_date</th>\n",
       "      <th>revenue</th>\n",
       "      <th>title</th>\n",
       "      <th>month</th>\n",
       "      <th>year</th>\n",
       "      <th>rating</th>\n",
       "      <th>season</th>\n",
       "      <th>genre</th>\n",
       "      <th>profitability</th>\n",
       "    </tr>\n",
       "  </thead>\n",
       "  <tbody>\n",
       "    <tr>\n",
       "      <th>0</th>\n",
       "      <td>356000000.0</td>\n",
       "      <td>tt4154796</td>\n",
       "      <td>2019-04-24</td>\n",
       "      <td>2.797801e+09</td>\n",
       "      <td>Avengers: Endgame</td>\n",
       "      <td>4</td>\n",
       "      <td>2019</td>\n",
       "      <td>PG-13</td>\n",
       "      <td>Spring</td>\n",
       "      <td>Adventure</td>\n",
       "      <td>2.441801e+09</td>\n",
       "    </tr>\n",
       "    <tr>\n",
       "      <th>1</th>\n",
       "      <td>300000000.0</td>\n",
       "      <td>tt4154756</td>\n",
       "      <td>2018-04-25</td>\n",
       "      <td>2.046240e+09</td>\n",
       "      <td>Avengers: Infinity War</td>\n",
       "      <td>4</td>\n",
       "      <td>2018</td>\n",
       "      <td>PG-13</td>\n",
       "      <td>Spring</td>\n",
       "      <td>Adventure</td>\n",
       "      <td>1.746240e+09</td>\n",
       "    </tr>\n",
       "    <tr>\n",
       "      <th>2</th>\n",
       "      <td>150000000.0</td>\n",
       "      <td>tt0369610</td>\n",
       "      <td>2015-06-06</td>\n",
       "      <td>1.671713e+09</td>\n",
       "      <td>Jurassic World</td>\n",
       "      <td>6</td>\n",
       "      <td>2015</td>\n",
       "      <td>PG-13</td>\n",
       "      <td>Summer</td>\n",
       "      <td>Action</td>\n",
       "      <td>1.521713e+09</td>\n",
       "    </tr>\n",
       "    <tr>\n",
       "      <th>3</th>\n",
       "      <td>260000000.0</td>\n",
       "      <td>tt6105098</td>\n",
       "      <td>2019-07-12</td>\n",
       "      <td>1.656943e+09</td>\n",
       "      <td>The Lion King</td>\n",
       "      <td>7</td>\n",
       "      <td>2019</td>\n",
       "      <td>PG</td>\n",
       "      <td>Summer</td>\n",
       "      <td>Adventure</td>\n",
       "      <td>1.396943e+09</td>\n",
       "    </tr>\n",
       "    <tr>\n",
       "      <th>4</th>\n",
       "      <td>220000000.0</td>\n",
       "      <td>tt0848228</td>\n",
       "      <td>2012-04-25</td>\n",
       "      <td>1.519558e+09</td>\n",
       "      <td>The Avengers</td>\n",
       "      <td>4</td>\n",
       "      <td>2012</td>\n",
       "      <td>PG-13</td>\n",
       "      <td>Spring</td>\n",
       "      <td>Science Fiction</td>\n",
       "      <td>1.299558e+09</td>\n",
       "    </tr>\n",
       "  </tbody>\n",
       "</table>\n",
       "</div>"
      ],
      "text/plain": [
       "        budget    imdb_id release_date       revenue                   title  \\\n",
       "0  356000000.0  tt4154796   2019-04-24  2.797801e+09       Avengers: Endgame   \n",
       "1  300000000.0  tt4154756   2018-04-25  2.046240e+09  Avengers: Infinity War   \n",
       "2  150000000.0  tt0369610   2015-06-06  1.671713e+09          Jurassic World   \n",
       "3  260000000.0  tt6105098   2019-07-12  1.656943e+09           The Lion King   \n",
       "4  220000000.0  tt0848228   2012-04-25  1.519558e+09            The Avengers   \n",
       "\n",
       "   month  year rating  season            genre  profitability  \n",
       "0      4  2019  PG-13  Spring        Adventure   2.441801e+09  \n",
       "1      4  2018  PG-13  Spring        Adventure   1.746240e+09  \n",
       "2      6  2015  PG-13  Summer           Action   1.521713e+09  \n",
       "3      7  2019     PG  Summer        Adventure   1.396943e+09  \n",
       "4      4  2012  PG-13  Spring  Science Fiction   1.299558e+09  "
      ]
     },
     "execution_count": 11,
     "metadata": {},
     "output_type": "execute_result"
    }
   ],
   "source": [
    "df.head()"
   ]
  },
  {
   "cell_type": "code",
   "execution_count": 12,
   "metadata": {},
   "outputs": [
    {
     "name": "stdout",
     "output_type": "stream",
     "text": [
      "<class 'pandas.core.frame.DataFrame'>\n",
      "RangeIndex: 1895 entries, 0 to 1894\n",
      "Data columns (total 11 columns):\n",
      " #   Column         Non-Null Count  Dtype  \n",
      "---  ------         --------------  -----  \n",
      " 0   budget         1895 non-null   float64\n",
      " 1   imdb_id        1895 non-null   object \n",
      " 2   release_date   1895 non-null   object \n",
      " 3   revenue        1895 non-null   float64\n",
      " 4   title          1895 non-null   object \n",
      " 5   month          1895 non-null   int64  \n",
      " 6   year           1895 non-null   int64  \n",
      " 7   rating         1895 non-null   object \n",
      " 8   season         1895 non-null   object \n",
      " 9   genre          1882 non-null   object \n",
      " 10  profitability  1895 non-null   float64\n",
      "dtypes: float64(3), int64(2), object(6)\n",
      "memory usage: 163.0+ KB\n"
     ]
    }
   ],
   "source": [
    "df.info()"
   ]
  },
  {
   "cell_type": "code",
   "execution_count": null,
   "metadata": {},
   "outputs": [],
   "source": [
    "new_df = df[df.drop(['imdb_id', 'title', 'release_date', ])]"
   ]
  }
 ],
 "metadata": {
  "kernelspec": {
   "display_name": "Python 3",
   "language": "python",
   "name": "python3"
  },
  "language_info": {
   "codemirror_mode": {
    "name": "ipython",
    "version": 3
   },
   "file_extension": ".py",
   "mimetype": "text/x-python",
   "name": "python",
   "nbconvert_exporter": "python",
   "pygments_lexer": "ipython3",
   "version": "3.7.6"
  },
  "toc": {
   "base_numbering": 1,
   "nav_menu": {},
   "number_sections": true,
   "sideBar": true,
   "skip_h1_title": false,
   "title_cell": "Table of Contents",
   "title_sidebar": "Contents",
   "toc_cell": false,
   "toc_position": {},
   "toc_section_display": true,
   "toc_window_display": false
  }
 },
 "nbformat": 4,
 "nbformat_minor": 4
}
